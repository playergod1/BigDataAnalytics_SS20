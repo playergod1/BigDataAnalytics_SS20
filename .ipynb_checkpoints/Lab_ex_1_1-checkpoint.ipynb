{
 "cells": [
  {
   "cell_type": "markdown",
   "metadata": {},
   "source": [
    "# Ex 1.1: MapReduce with Python Functional Programming"
   ]
  },
  {
   "cell_type": "markdown",
   "metadata": {},
   "source": [
    "#### Python *map* function\n",
    "Python has e built in *map* function -> [see python docs](https://docs.python.org/3/library/functions.html#map)\n",
    "* ``map(function, iterable object)`` applies a function to every member of the object (=data structure)\n",
    "* iterable objects are e.g. lists, dicts, arrays, ... but also custom data structures (see [here](https://thispointer.com/python-how-to-make-a-class-iterable-create-iterator-class-for-it/))"
   ]
  },
  {
   "cell_type": "code",
   "execution_count": 1,
   "metadata": {},
   "outputs": [
    {
     "name": "stdout",
     "output_type": "stream",
     "text": [
      "[1, 2, 3, 4]\n",
      "[2, 3, 4, 5]\n"
     ]
    }
   ],
   "source": [
    "#example\n",
    "def Plus1(a):\n",
    "    return a+1\n",
    "\n",
    "A = [1,2,3,4]\n",
    "print(A)\n",
    "B = list(map(Plus1,A)) #need to cast map output to list\n",
    "print(B)"
   ]
  },
  {
   "cell_type": "code",
   "execution_count": 2,
   "metadata": {},
   "outputs": [
    {
     "name": "stdout",
     "output_type": "stream",
     "text": [
      "[1, 2, 3, 4]\n",
      "[3, 4, 5, 6]\n",
      "[2, 3, 6, 7]\n"
     ]
    }
   ],
   "source": [
    "#example 2 - map with an function that takes arguments\n",
    "from functools import partial\n",
    "\n",
    "def PlusX(a,x):\n",
    "    return a+x\n",
    "\n",
    "\n",
    "A = [1,2,3,4]\n",
    "print(A)\n",
    "B = list(map(partial(PlusX,x=2),A)) #use partial to fix parameters \n",
    "print(B)\n",
    "\n",
    "C = [1,1,3,3]\n",
    "D = list(map(PlusX,A,C)) #or input multiple iterable objects\n",
    "print(D)"
   ]
  },
  {
   "cell_type": "code",
   "execution_count": 3,
   "metadata": {},
   "outputs": [
    {
     "name": "stdout",
     "output_type": "stream",
     "text": [
      "[2, 3, 4, 5]\n"
     ]
    }
   ],
   "source": [
    "#example 3 - map with lmbda functions\n",
    "A = [1,2,3,4]\n",
    "B = list(map(lambda x:x+1,A ))#implement function directly with lambda\n",
    "print(B)"
   ]
  },
  {
   "cell_type": "code",
   "execution_count": 4,
   "metadata": {},
   "outputs": [
    {
     "data": {
      "text/plain": [
       "array([[13.56389524,  9.39214302,  7.15443762,  3.38551436, 14.63959255,\n",
       "         9.46109742,  6.41466644,  8.45772994,  8.66925353, 10.41214627],\n",
       "       [10.25754148, 17.82234454,  6.15137889, 19.29483094,  2.98597473,\n",
       "         5.4537589 , 12.70110123,  3.69639522, 15.09931987,  5.48113961],\n",
       "       [12.85311994,  2.09646355,  2.8770893 , 11.58419428,  3.67338579,\n",
       "         9.61188085,  2.43652329,  5.37345818,  6.61116423, 10.06394699],\n",
       "       [10.07036524, 11.78269168,  5.48194567, 14.78603344, 14.43773902,\n",
       "         8.43664987,  1.77290305, 18.38646926,  5.88202848,  6.00005447],\n",
       "       [17.62911733,  7.81616158,  5.06700782, 12.08295513,  6.63475322,\n",
       "         5.61990775,  8.21158888, 17.94544018,  1.79996886,  9.26528171],\n",
       "       [ 0.36504257,  3.11950916, 18.45470187,  5.62460159,  3.01122486,\n",
       "        18.4909621 , 10.12514131,  1.49090103, 19.57895525, 19.448431  ],\n",
       "       [11.16074193, 16.39439978,  9.69503916,  4.14094602,  9.10241204,\n",
       "         5.28208313, 18.84833927,  3.87271299, 17.62345567,  9.47957429],\n",
       "       [ 1.01769769, 19.5660959 , 17.33478169,  8.94575153,  1.46018317,\n",
       "        13.54278848, 14.94030094,  4.71542043,  0.88917422,  5.16203091],\n",
       "       [17.7695727 ,  3.62536263,  8.30145038,  5.18226485,  8.09778824,\n",
       "        16.2698463 , 19.8616672 ,  0.71284479, 11.58165763, 10.60536154],\n",
       "       [ 9.7470341 ,  5.54138306,  0.17618492, 17.21082169, 14.67653562,\n",
       "        15.13354971,  0.61728322,  9.54478626, 19.6474287 ,  2.33976562]])"
      ]
     },
     "execution_count": 4,
     "metadata": {},
     "output_type": "execute_result"
    }
   ],
   "source": [
    "#example 4 - Numpy has map \"build in\"\n",
    "import numpy as np\n",
    "A = np.random.rand(10,10)*20\n",
    "A"
   ]
  },
  {
   "cell_type": "code",
   "execution_count": 5,
   "metadata": {},
   "outputs": [],
   "source": [
    "#apply function directly on each element of an array\n",
    "def isLarger10(x):\n",
    "    return x>10\n",
    "\n",
    "B = isLarger10(A)"
   ]
  },
  {
   "cell_type": "code",
   "execution_count": 6,
   "metadata": {},
   "outputs": [
    {
     "data": {
      "text/plain": [
       "array([[ True, False, False, False,  True, False, False, False, False,\n",
       "         True],\n",
       "       [ True,  True, False,  True, False, False,  True, False,  True,\n",
       "        False],\n",
       "       [ True, False, False,  True, False, False, False, False, False,\n",
       "         True],\n",
       "       [ True,  True, False,  True,  True, False, False,  True, False,\n",
       "        False],\n",
       "       [ True, False, False,  True, False, False, False,  True, False,\n",
       "        False],\n",
       "       [False, False,  True, False, False,  True,  True, False,  True,\n",
       "         True],\n",
       "       [ True,  True, False, False, False, False,  True, False,  True,\n",
       "        False],\n",
       "       [False,  True,  True, False, False,  True,  True, False, False,\n",
       "        False],\n",
       "       [ True, False, False, False, False,  True,  True, False,  True,\n",
       "         True],\n",
       "       [False, False, False,  True,  True,  True, False, False,  True,\n",
       "        False]])"
      ]
     },
     "execution_count": 6,
     "metadata": {},
     "output_type": "execute_result"
    }
   ],
   "source": [
    "B"
   ]
  },
  {
   "cell_type": "markdown",
   "metadata": {},
   "source": [
    "#### *Reduce* in Python\n",
    "*functools* also provides a *reduce* function. Again, it will take a function and one ore more iterable objects as arguments. (see [API](https://docs.python.org/3/library/functools.html#functools.reduce))"
   ]
  },
  {
   "cell_type": "code",
   "execution_count": 7,
   "metadata": {},
   "outputs": [
    {
     "name": "stdout",
     "output_type": "stream",
     "text": [
      "The sum of the list elements is : 17\n",
      "The maximum element of the list is : 6\n"
     ]
    }
   ],
   "source": [
    "# importing functools for reduce() \n",
    "import functools \n",
    "  \n",
    "# initializing list \n",
    "lis = [ 1 , 3, 5, 6, 2, ] \n",
    "  \n",
    "def addIt(a,b):\n",
    "    return a+b\n",
    "\n",
    "# using reduce to compute sum of list \n",
    "print (\"The sum of the list elements is : \",end=\"\") \n",
    "print (functools.reduce(addIt,lis)) \n",
    "  \n",
    "# using reduce to compute maximum element from list \n",
    "print (\"The maximum element of the list is : \",end=\"\") \n",
    "print (functools.reduce(lambda a,b : a if a > b else b,lis)) "
   ]
  },
  {
   "cell_type": "markdown",
   "metadata": {},
   "source": [
    "#### Splitting"
   ]
  },
  {
   "cell_type": "code",
   "execution_count": 9,
   "metadata": {},
   "outputs": [
    {
     "name": "stdout",
     "output_type": "stream",
     "text": [
      "[1, 2, 3]\n",
      "[4, 5, 6]\n",
      "[7, 8, 9]\n"
     ]
    }
   ],
   "source": [
    "import more_itertools as mit\n",
    "\n",
    "A=[1,2,3,4,5,6,7,8,9]\n",
    "B=list(mit.chunked(A, 3)) #split into lists of max size 3\n",
    "\n",
    "for i in B: #iterate over the spitts \n",
    "    print(i)"
   ]
  },
  {
   "cell_type": "code",
   "execution_count": 10,
   "metadata": {},
   "outputs": [
    {
     "name": "stdout",
     "output_type": "stream",
     "text": [
      "['t', 'h', 'i', 's', ' ']\n",
      "['i', 's', ' ', 'a', ' ']\n",
      "['s', 'h', 'o', 'r', 't']\n",
      "[' ', 't', 'e', 'x', 't']\n",
      "[' ', 'i', 'n', ' ', 'f']\n",
      "['o', 'r', 'm', ' ', 'o']\n",
      "['f', ' ', 'a', ' ', 'p']\n",
      "['y', 't', 'h', 'o', 'n']\n",
      "[' ', 's', 't', 'r', 'i']\n",
      "['n', 'g']\n"
     ]
    }
   ],
   "source": [
    "A='this is a short text in form of a python string'\n",
    "B=list(mit.chunked(A, 5)) #split into lists of max size 5\n",
    "\n",
    "for i in B: #iterate over the spitts \n",
    "    print(i)"
   ]
  },
  {
   "cell_type": "markdown",
   "metadata": {},
   "source": [
    "## Exercise: build a simple *Character Count* Algorithm based on the above *split, map* and *reduce* operators "
   ]
  },
  {
   "cell_type": "code",
   "execution_count": 11,
   "metadata": {},
   "outputs": [],
   "source": [
    "#some text from NYTimes\n",
    "text = ' Byron Spencer, handing out water and burgers to protesters outside Los Angeles City Hall, said he was both “elated and defeated” by word of the new charges. He said he had seen countless surges of outrage over police brutality against black men, only to have it happen again. “I’m 55, I’m black and I’m male — I’ve seen the cycle,” he said. “It’s almost like PTSD constantly having this conversation with my son.” Cierra Sesay reacted to the charges at a demonstration in the shadow of the State Capitol in Denver. “It’s amazing, it’s another box we can check,” she said. “But it goes up so much higher. It’s about the system.” In San Francisco, Tevita Tomasi — who is of Polynesian descent and described himself as “dark and tall and big” — said he regularly faced racial profiling, evidence of the bigger forces that must be overcome. On Wednesday, he distributed bottled water at what he said was his first demonstration, but one that would not be his last. What would stop him from protesting?'"
   ]
  },
  {
   "cell_type": "markdown",
   "metadata": {},
   "source": [
    "* HINT: use list pf *python* [dictionaries](https://docs.python.org/3/tutorial/datastructures.html#dictionaries) to store the character counts in the map\n",
    "* HINT 2: merge the dicts in reduce"
   ]
  },
  {
   "cell_type": "code",
   "execution_count": 16,
   "metadata": {},
   "outputs": [
    {
     "name": "stdout",
     "output_type": "stream",
     "text": [
      "{' ': 176, 'B': 2, 'y': 13, 'r': 38, 'o': 52, 'n': 49, 'S': 5, 'p': 10, 'e': 89, 'c': 25, ',': 11, 'h': 39, 'a': 72, 'd': 36, 'i': 49, 'g': 19, 'u': 17, 't': 72, 'w': 13, 'b': 16, 's': 59, 'L': 1, 'A': 1, 'l': 28, 'C': 3, 'H': 2, '“': 6, 'f': 12, '”': 6, '.': 10, 'v': 9, 'k': 5, 'm': 18, 'I': 8, '’': 8, '5': 2, '—': 3, 'P': 2, 'T': 3, 'D': 2, 'z': 1, 'x': 1, 'F': 1, 'O': 1, 'W': 2, '?': 1}\n"
     ]
    }
   ],
   "source": [
    "def countChars(string):\n",
    "    chars = functools.reduce(reducer ,map(lambda char: dict([[char,1]]), string))\n",
    "    print(chars)\n",
    "def reducer(i,j):\n",
    "    for k in j:\n",
    "        i[k] = i.get(k, 0) + j.get(k,0)\n",
    "    return i\n",
    "\n",
    "countChars(text)"
   ]
  },
  {
   "cell_type": "code",
   "execution_count": null,
   "metadata": {},
   "outputs": [],
   "source": []
  }
 ],
 "metadata": {
  "kernelspec": {
   "display_name": "Python 3",
   "language": "python",
   "name": "python3"
  },
  "language_info": {
   "codemirror_mode": {
    "name": "ipython",
    "version": 3
   },
   "file_extension": ".py",
   "mimetype": "text/x-python",
   "name": "python",
   "nbconvert_exporter": "python",
   "pygments_lexer": "ipython3",
   "version": "3.7.6"
  }
 },
 "nbformat": 4,
 "nbformat_minor": 4
}
